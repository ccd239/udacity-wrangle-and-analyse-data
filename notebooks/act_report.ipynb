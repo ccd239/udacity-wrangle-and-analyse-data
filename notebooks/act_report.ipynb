{
 "cells": [
  {
   "cell_type": "markdown",
   "metadata": {},
   "source": [
    "## Report: act_report\n"
   ]
  },
  {
   "cell_type": "markdown",
   "metadata": {},
   "source": [
    "First, I wanted to find out what are the most reviewed breeds, which can give us an idea of which ones are more famous. \n",
    "\n",
    "In the next graphic we can see the Top 10 most reviewed breeds in the WeRateDogs page:\n",
    "\n",
    "<body>\n",
    "<img src=\"..\\\\visuals\\\\dog_breed_count.png\" alt=\"Dog_breed_count\" style=\"float: left; margin-right:15px;width:700px;height:400px;\">\n",
    "</body>\n"
   ]
  },
  {
   "cell_type": "markdown",
   "metadata": {},
   "source": [
    "There is no doubt, Golden Retriever is the breed with more reviews, followed by Pembroke. \n",
    "\n",
    "* But how these compare in relation to the ratings they are ponctuated with? \n",
    "\n",
    "* Do they follow the same order of \"attractiveness\"? \n",
    "\n",
    "The following graphic might give us an idea. \n",
    "\n",
    "It shows the boxplot of rating (rating numerator divided by the rating denominator) for each breed of the 10 most reviewed breeds in the WeRateDogs page.\n",
    "\n",
    "<body>\n",
    "<img src=\"..\\\\visuals\\\\dog_breed_ratings.png\" alt=\"Dog_breed_count\" style=\"float: left; margin-right:15px;width:700px;height:1100px;\">\n",
    "</body>\n"
   ]
  },
  {
   "cell_type": "markdown",
   "metadata": {},
   "source": [
    "Golden retriever is indeed one of the best rated dogs in the WeRateDogs page. \n",
    "\n",
    "On the other hand, on average, it has 2 other competitors from the list above: Pembrokes and Samoyeds. \n",
    "\n",
    "One things that really stoods out from this graphic is the golden retriever outlier, which is actually the dog with the best rating from the data collected!\n",
    "\n",
    "This outlier must be indeed a super dog right? Lets check him bellow:"
   ]
  },
  {
   "cell_type": "code",
   "execution_count": 1,
   "metadata": {},
   "outputs": [
    {
     "data": {
      "text/html": [
       "<center>\n",
       "<blockquote class=\"twitter-tweet\" data-lang=\"en\" data-theme=\"light\"><p lang=\"en\" dir=\"ltr\">Meet Sam. She smiles 24/7 &amp; secretly aspires to be a reindeer. <br>Keep Sam smiling by clicking and sharing this link:<a href=\"https://t.co/98tB8y7y7t\">https://t.co/98tB8y7y7t</a> <a href=\"https://t.co/LouL5vdvxx\">pic.twitter.com/LouL5vdvxx</a></p>&mdash; WeRateDogs® (@dog_rates) <a href=\"https://twitter.com/dog_rates/status/810984652412424192?ref_src=twsrc%5Etfw\">December 19, 2016</a></blockquote> <script async src=\"https://platform.twitter.com/widgets.js\" charset=\"utf-8\"></script>\n",
       "</center>\n"
      ],
      "text/plain": [
       "<IPython.core.display.HTML object>"
      ]
     },
     "metadata": {},
     "output_type": "display_data"
    }
   ],
   "source": [
    "%%html\n",
    "<center>\n",
    "<blockquote class=\"twitter-tweet\" data-lang=\"en\" data-theme=\"light\"><p lang=\"en\" dir=\"ltr\">Meet Sam. She smiles 24/7 &amp; secretly aspires to be a reindeer. <br>Keep Sam smiling by clicking and sharing this link:<a href=\"https://t.co/98tB8y7y7t\">https://t.co/98tB8y7y7t</a> <a href=\"https://t.co/LouL5vdvxx\">pic.twitter.com/LouL5vdvxx</a></p>&mdash; WeRateDogs® (@dog_rates) <a href=\"https://twitter.com/dog_rates/status/810984652412424192?ref_src=twsrc%5Etfw\">December 19, 2016</a></blockquote> <script async src=\"https://platform.twitter.com/widgets.js\" charset=\"utf-8\"></script>\n",
    "</center>"
   ]
  },
  {
   "cell_type": "markdown",
   "metadata": {},
   "source": [
    "**How cute is this dog!!**"
   ]
  }
 ],
 "metadata": {
  "kernelspec": {
   "display_name": "Python 3",
   "language": "python",
   "name": "python3"
  },
  "language_info": {
   "codemirror_mode": {
    "name": "ipython",
    "version": 3
   },
   "file_extension": ".py",
   "mimetype": "text/x-python",
   "name": "python",
   "nbconvert_exporter": "python",
   "pygments_lexer": "ipython3",
   "version": "3.6.3"
  }
 },
 "nbformat": 4,
 "nbformat_minor": 2
}
